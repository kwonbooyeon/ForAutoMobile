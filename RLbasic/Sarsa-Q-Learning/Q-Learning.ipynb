{
 "cells": [
  {
   "cell_type": "code",
   "execution_count": 16,
   "id": "714211b8",
   "metadata": {},
   "outputs": [
    {
     "name": "stdout",
     "output_type": "stream",
     "text": [
      "Requirement already satisfied: gym-minigrid==1.0.3 in c:\\users\\qndus\\anaconda3\\lib\\site-packages (1.0.3)\n",
      "Requirement already satisfied: gym>=0.9.6 in c:\\users\\qndus\\anaconda3\\lib\\site-packages (from gym-minigrid==1.0.3) (0.22.0)\n",
      "Requirement already satisfied: numpy>=1.15.0 in c:\\users\\qndus\\anaconda3\\lib\\site-packages (from gym-minigrid==1.0.3) (1.26.4)\n",
      "Requirement already satisfied: cloudpickle>=1.2.0 in c:\\users\\qndus\\anaconda3\\lib\\site-packages (from gym>=0.9.6->gym-minigrid==1.0.3) (2.2.1)\n",
      "Requirement already satisfied: gym-notices>=0.0.4 in c:\\users\\qndus\\anaconda3\\lib\\site-packages (from gym>=0.9.6->gym-minigrid==1.0.3) (0.0.8)\n"
     ]
    },
    {
     "name": "stderr",
     "output_type": "stream",
     "text": [
      "\n",
      "[notice] A new release of pip is available: 24.0 -> 24.2\n",
      "[notice] To update, run: python.exe -m pip install --upgrade pip\n"
     ]
    },
    {
     "name": "stdout",
     "output_type": "stream",
     "text": [
      "Requirement already satisfied: gym==0.22 in c:\\users\\qndus\\anaconda3\\lib\\site-packages (0.22.0)\n",
      "Requirement already satisfied: numpy>=1.18.0 in c:\\users\\qndus\\anaconda3\\lib\\site-packages (from gym==0.22) (1.26.4)\n",
      "Requirement already satisfied: cloudpickle>=1.2.0 in c:\\users\\qndus\\anaconda3\\lib\\site-packages (from gym==0.22) (2.2.1)\n",
      "Requirement already satisfied: gym-notices>=0.0.4 in c:\\users\\qndus\\anaconda3\\lib\\site-packages (from gym==0.22) (0.0.8)\n"
     ]
    },
    {
     "name": "stderr",
     "output_type": "stream",
     "text": [
      "\n",
      "[notice] A new release of pip is available: 24.0 -> 24.2\n",
      "[notice] To update, run: python.exe -m pip install --upgrade pip\n"
     ]
    },
    {
     "name": "stdout",
     "output_type": "stream",
     "text": [
      "Requirement already satisfied: imageio-ffmpeg==0.5.1 in c:\\users\\qndus\\anaconda3\\lib\\site-packages (0.5.1)\n",
      "Requirement already satisfied: setuptools in c:\\users\\qndus\\anaconda3\\lib\\site-packages (from imageio-ffmpeg==0.5.1) (69.5.1)\n"
     ]
    },
    {
     "name": "stderr",
     "output_type": "stream",
     "text": [
      "\n",
      "[notice] A new release of pip is available: 24.0 -> 24.2\n",
      "[notice] To update, run: python.exe -m pip install --upgrade pip\n"
     ]
    }
   ],
   "source": [
    "!pip install gym-minigrid==1.0.3\n",
    "!pip install gym==0.22\n",
    "!pip install imageio-ffmpeg==0.5.1"
   ]
  },
  {
   "cell_type": "code",
   "execution_count": 17,
   "id": "150881b2",
   "metadata": {
    "scrolled": true
   },
   "outputs": [],
   "source": [
    "import numpy as np\n",
    "import os\n",
    "import pandas as pd\n",
    "import random\n",
    "from collections import defaultdict\n",
    "import gym\n",
    "import gym_minigrid\n",
    "import matplotlib.pyplot as plt\n",
    "%matplotlib inline"
   ]
  },
  {
   "cell_type": "code",
   "execution_count": 18,
   "id": "bb3475c0",
   "metadata": {
    "scrolled": true
   },
   "outputs": [],
   "source": [
    "class QLearning:\n",
    "    def __init__(self, actions, agent_indicator=10):\n",
    "        self.actions = actions\n",
    "        self.agent_indicator = agent_indicator\n",
    "        self.alpha = 0.01\n",
    "        self.gamma = 0.9\n",
    "        self.epsilon = 0.2\n",
    "        self.q_values = defaultdict(lambda: [0.0] * actions)\n",
    "        \n",
    "    def _convert_state(self, s):\n",
    "        return np.where(s == self.agent_indicator)[0][0]\n",
    "        \n",
    "    def update(self, state, action, reward, next_state, next_action):\n",
    "        state = self._convert_state(state)\n",
    "        next_state = self._convert_state(next_state)\n",
    "        \n",
    "        q_value = self.q_values[state][action]\n",
    "\n",
    "        ################## write code ################################\n",
    "        next_q_value = max(self.q_values[next_state])\n",
    "        \n",
    "        td_error = reward + self.gamma * next_q_value - q_value\n",
    "        self.q_values[state][action] = q_value + self.alpha * td_error\n",
    "        ##############################################################\n",
    "    \n",
    "    def act(self, state):\n",
    "        if np.random.rand() < self.epsilon:\n",
    "            action = np.random.choice(self.actions)\n",
    "        else:\n",
    "            state = self._convert_state(state)\n",
    "            q_values = self.q_values[state]\n",
    "            action = np.argmax(q_values)\n",
    "        return action"
   ]
  },
  {
   "cell_type": "code",
   "execution_count": 19,
   "id": "90706d6e",
   "metadata": {
    "scrolled": true
   },
   "outputs": [],
   "source": [
    "from utils import gen_wrapped_env, show_video"
   ]
  },
  {
   "cell_type": "code",
   "execution_count": 20,
   "id": "d048dbff",
   "metadata": {
    "scrolled": true
   },
   "outputs": [],
   "source": [
    "env = gen_wrapped_env('MiniGrid-Empty-6x6-v0')\n",
    "\n",
    "obs = env.reset()\n",
    "\n",
    "agent_position = obs[0]\n",
    "\n",
    "agent = QLearning(3, agent_position)"
   ]
  },
  {
   "cell_type": "markdown",
   "id": "e79aa8d2-fca8-4b2e-8127-d4c0469c52d1",
   "metadata": {},
   "source": [
    "## For Q-Learning\n",
    "+ Q-learning update"
   ]
  },
  {
   "cell_type": "code",
   "execution_count": 21,
   "id": "f7e8c55c",
   "metadata": {
    "scrolled": true
   },
   "outputs": [
    {
     "name": "stdout",
     "output_type": "stream",
     "text": [
      "episode: 20, rewards: 0\n",
      "episode: 40, rewards: 0\n",
      "episode: 60, rewards: 0\n",
      "episode: 80, rewards: 0\n",
      "episode: 100, rewards: 0\n",
      "episode: 120, rewards: 0\n",
      "episode: 140, rewards: 0\n",
      "episode: 160, rewards: 0\n",
      "episode: 180, rewards: 0\n",
      "episode: 200, rewards: 0\n",
      "episode: 220, rewards: 0\n",
      "episode: 240, rewards: 0\n",
      "episode: 260, rewards: 0\n",
      "episode: 280, rewards: 0\n",
      "episode: 300, rewards: 0\n",
      "episode: 320, rewards: 0\n",
      "episode: 340, rewards: 0\n",
      "episode: 360, rewards: 0\n",
      "episode: 380, rewards: 0\n",
      "episode: 400, rewards: 0\n",
      "episode: 420, rewards: 0\n",
      "episode: 440, rewards: 0\n",
      "episode: 460, rewards: 0\n",
      "episode: 480, rewards: 0\n",
      "episode: 500, rewards: 0\n",
      "episode: 520, rewards: 0\n",
      "episode: 540, rewards: 0\n",
      "episode: 560, rewards: 0\n",
      "episode: 580, rewards: 0\n",
      "episode: 600, rewards: 0\n",
      "episode: 620, rewards: 0\n",
      "episode: 640, rewards: 0\n",
      "episode: 660, rewards: 0\n",
      "episode: 680, rewards: 0\n",
      "episode: 700, rewards: 0\n",
      "episode: 720, rewards: 0\n",
      "episode: 740, rewards: 0\n",
      "episode: 760, rewards: 0\n",
      "episode: 780, rewards: 0\n",
      "episode: 800, rewards: 0\n",
      "episode: 820, rewards: 0\n",
      "episode: 840, rewards: 0\n",
      "episode: 860, rewards: 0\n",
      "episode: 880, rewards: 0.712\n",
      "episode: 900, rewards: 0.20799999999999996\n",
      "episode: 920, rewards: 0.784\n",
      "episode: 940, rewards: 0.09999999999999998\n",
      "episode: 960, rewards: 0.244\n",
      "episode: 980, rewards: 0.15400000000000003\n",
      "episode: 1000, rewards: 0.82\n",
      "episode: 1020, rewards: 0\n",
      "episode: 1040, rewards: 0.874\n",
      "episode: 1060, rewards: 0.22599999999999998\n",
      "episode: 1080, rewards: 0\n",
      "episode: 1100, rewards: 0.802\n",
      "episode: 1120, rewards: 0.6579999999999999\n",
      "episode: 1140, rewards: 0.82\n",
      "episode: 1160, rewards: 0\n",
      "episode: 1180, rewards: 0.73\n",
      "episode: 1200, rewards: 0\n",
      "episode: 1220, rewards: 0\n",
      "episode: 1240, rewards: 0\n",
      "episode: 1260, rewards: 0.604\n",
      "episode: 1280, rewards: 0\n",
      "episode: 1300, rewards: 0.20799999999999996\n",
      "episode: 1320, rewards: 0\n",
      "episode: 1340, rewards: 0.766\n",
      "episode: 1360, rewards: 0\n",
      "episode: 1380, rewards: 0.802\n",
      "episode: 1400, rewards: 0\n",
      "episode: 1420, rewards: 0\n",
      "episode: 1440, rewards: 0.37\n",
      "episode: 1460, rewards: 0.766\n",
      "episode: 1480, rewards: 0.748\n",
      "episode: 1500, rewards: 0.838\n",
      "episode: 1520, rewards: 0\n",
      "episode: 1540, rewards: 0.262\n",
      "episode: 1560, rewards: 0.802\n",
      "episode: 1580, rewards: 0.31599999999999995\n",
      "episode: 1600, rewards: 0.262\n",
      "episode: 1620, rewards: 0\n",
      "episode: 1640, rewards: 0\n",
      "episode: 1660, rewards: 0.802\n",
      "episode: 1680, rewards: 0\n",
      "episode: 1700, rewards: 0.6759999999999999\n",
      "episode: 1720, rewards: 0.73\n",
      "episode: 1740, rewards: 0.784\n",
      "episode: 1760, rewards: 0.874\n",
      "episode: 1780, rewards: 0.802\n",
      "episode: 1800, rewards: 0.514\n",
      "episode: 1820, rewards: 0\n",
      "episode: 1840, rewards: 0.784\n",
      "episode: 1860, rewards: 0\n",
      "episode: 1880, rewards: 0\n",
      "episode: 1900, rewards: 0.29799999999999993\n",
      "episode: 1920, rewards: 0.838\n",
      "episode: 1940, rewards: 0.3879999999999999\n",
      "episode: 1960, rewards: 0.31599999999999995\n",
      "episode: 1980, rewards: 0.6579999999999999\n",
      "episode: 2000, rewards: 0.4059999999999999\n",
      "episode: 2020, rewards: 0\n",
      "episode: 2040, rewards: 0.4959999999999999\n",
      "episode: 2060, rewards: 0.802\n",
      "episode: 2080, rewards: 0\n",
      "episode: 2100, rewards: 0.784\n",
      "episode: 2120, rewards: 0\n",
      "episode: 2140, rewards: 0.838\n",
      "episode: 2160, rewards: 0.802\n",
      "episode: 2180, rewards: 0.874\n",
      "episode: 2200, rewards: 0.784\n",
      "episode: 2220, rewards: 0.37\n",
      "episode: 2240, rewards: 0.82\n",
      "episode: 2260, rewards: 0\n",
      "episode: 2280, rewards: 0\n",
      "episode: 2300, rewards: 0\n",
      "episode: 2320, rewards: 0.874\n",
      "episode: 2340, rewards: 0.802\n",
      "episode: 2360, rewards: 0.2799999999999999\n",
      "episode: 2380, rewards: 0\n",
      "episode: 2400, rewards: 0.748\n",
      "episode: 2420, rewards: 0\n",
      "episode: 2440, rewards: 0\n",
      "episode: 2460, rewards: 0.17199999999999993\n",
      "episode: 2480, rewards: 0.18999999999999995\n",
      "episode: 2500, rewards: 0\n",
      "episode: 2520, rewards: 0.874\n",
      "episode: 2540, rewards: 0\n",
      "episode: 2560, rewards: 0\n",
      "episode: 2580, rewards: 0\n",
      "episode: 2600, rewards: 0\n",
      "episode: 2620, rewards: 0.766\n",
      "episode: 2640, rewards: 0.478\n",
      "episode: 2660, rewards: 0\n",
      "episode: 2680, rewards: 0.874\n",
      "episode: 2700, rewards: 0.712\n",
      "episode: 2720, rewards: 0.622\n",
      "episode: 2740, rewards: 0.514\n",
      "episode: 2760, rewards: 0.586\n",
      "episode: 2780, rewards: 0\n",
      "episode: 2800, rewards: 0\n",
      "episode: 2820, rewards: 0\n",
      "episode: 2840, rewards: 0\n",
      "episode: 2860, rewards: 0\n",
      "episode: 2880, rewards: 0.44199999999999995\n",
      "episode: 2900, rewards: 0\n",
      "episode: 2920, rewards: 0\n",
      "episode: 2940, rewards: 0.352\n",
      "episode: 2960, rewards: 0.6759999999999999\n",
      "episode: 2980, rewards: 0\n",
      "episode: 3000, rewards: 0.622\n",
      "episode: 3020, rewards: 0.15400000000000003\n",
      "episode: 3040, rewards: 0.73\n",
      "episode: 3060, rewards: 0\n",
      "episode: 3080, rewards: 0\n",
      "episode: 3100, rewards: 0.514\n",
      "episode: 3120, rewards: 0.31599999999999995\n",
      "episode: 3140, rewards: 0.784\n",
      "episode: 3160, rewards: 0\n",
      "episode: 3180, rewards: 0.694\n",
      "episode: 3200, rewards: 0\n",
      "episode: 3220, rewards: 0\n",
      "episode: 3240, rewards: 0.17199999999999993\n",
      "episode: 3260, rewards: 0.6399999999999999\n",
      "episode: 3280, rewards: 0\n",
      "episode: 3300, rewards: 0\n",
      "episode: 3320, rewards: 0.31599999999999995\n",
      "episode: 3340, rewards: 0\n",
      "episode: 3360, rewards: 0\n",
      "episode: 3380, rewards: 0.5680000000000001\n",
      "episode: 3400, rewards: 0\n",
      "episode: 3420, rewards: 0.802\n",
      "episode: 3440, rewards: 0.604\n",
      "episode: 3460, rewards: 0\n",
      "episode: 3480, rewards: 0.532\n",
      "episode: 3500, rewards: 0\n",
      "episode: 3520, rewards: 0.856\n",
      "episode: 3540, rewards: 0.802\n",
      "episode: 3560, rewards: 0\n",
      "episode: 3580, rewards: 0\n",
      "episode: 3600, rewards: 0.262\n",
      "episode: 3620, rewards: 0.784\n",
      "episode: 3640, rewards: 0.604\n",
      "episode: 3660, rewards: 0\n",
      "episode: 3680, rewards: 0\n",
      "episode: 3700, rewards: 0\n",
      "episode: 3720, rewards: 0.838\n",
      "episode: 3740, rewards: 0\n",
      "episode: 3760, rewards: 0.352\n",
      "episode: 3780, rewards: 0\n",
      "episode: 3800, rewards: 0\n",
      "episode: 3820, rewards: 0.802\n",
      "episode: 3840, rewards: 0\n",
      "episode: 3860, rewards: 0\n",
      "episode: 3880, rewards: 0.622\n",
      "episode: 3900, rewards: 0.856\n",
      "episode: 3920, rewards: 0.3879999999999999\n",
      "episode: 3940, rewards: 0.766\n",
      "episode: 3960, rewards: 0.4959999999999999\n",
      "episode: 3980, rewards: 0\n",
      "episode: 4000, rewards: 0.874\n",
      "episode: 4020, rewards: 0.45999999999999996\n",
      "episode: 4040, rewards: 0\n",
      "episode: 4060, rewards: 0.82\n",
      "episode: 4080, rewards: 0\n",
      "episode: 4100, rewards: 0.766\n",
      "episode: 4120, rewards: 0.262\n",
      "episode: 4140, rewards: 0\n",
      "episode: 4160, rewards: 0.856\n",
      "episode: 4180, rewards: 0\n",
      "episode: 4200, rewards: 0\n",
      "episode: 4220, rewards: 0.20799999999999996\n",
      "episode: 4240, rewards: 0\n",
      "episode: 4260, rewards: 0.4059999999999999\n",
      "episode: 4280, rewards: 0\n",
      "episode: 4300, rewards: 0\n",
      "episode: 4320, rewards: 0\n",
      "episode: 4340, rewards: 0\n",
      "episode: 4360, rewards: 0\n",
      "episode: 4380, rewards: 0.82\n",
      "episode: 4400, rewards: 0\n",
      "episode: 4420, rewards: 0.82\n",
      "episode: 4440, rewards: 0\n",
      "episode: 4460, rewards: 0.42399999999999993\n",
      "episode: 4480, rewards: 0.784\n",
      "episode: 4500, rewards: 0.73\n",
      "episode: 4520, rewards: 0.6399999999999999\n",
      "episode: 4540, rewards: 0\n",
      "episode: 4560, rewards: 0.82\n",
      "episode: 4580, rewards: 0\n",
      "episode: 4600, rewards: 0.802\n",
      "episode: 4620, rewards: 0.82\n",
      "episode: 4640, rewards: 0\n",
      "episode: 4660, rewards: 0\n",
      "episode: 4680, rewards: 0.55\n",
      "episode: 4700, rewards: 0\n",
      "episode: 4720, rewards: 0\n",
      "episode: 4740, rewards: 0.17199999999999993\n",
      "episode: 4760, rewards: 0\n",
      "episode: 4780, rewards: 0.244\n",
      "episode: 4800, rewards: 0.5680000000000001\n",
      "episode: 4820, rewards: 0\n",
      "episode: 4840, rewards: 0.694\n",
      "episode: 4860, rewards: 0.4059999999999999\n",
      "episode: 4880, rewards: 0.802\n",
      "episode: 4900, rewards: 0.874\n",
      "episode: 4920, rewards: 0.514\n",
      "episode: 4940, rewards: 0\n",
      "episode: 4960, rewards: 0.766\n",
      "episode: 4980, rewards: 0.20799999999999996\n",
      "episode: 5000, rewards: 0.856\n"
     ]
    }
   ],
   "source": [
    "rewards = []\n",
    "for ep in range(5000):\n",
    "    done = False\n",
    "    obs = env.reset()\n",
    "    action = agent.act(obs)\n",
    "    \n",
    "    ep_rewards = 0\n",
    "    while not done:\n",
    "        next_obs, reward, done, info = env.step(action)\n",
    "\n",
    "        next_action = agent.act(next_obs)\n",
    "\n",
    "        agent.update(obs, action, reward, next_obs, next_action)\n",
    "        \n",
    "        ep_rewards += reward\n",
    "        obs = next_obs\n",
    "        action = next_action\n",
    "    rewards.append(ep_rewards)\n",
    "    if (ep+1) % 20 == 0:\n",
    "        print(\"episode: {}, rewards: {}\".format(ep+1, ep_rewards))\n",
    "env.close()"
   ]
  },
  {
   "cell_type": "code",
   "execution_count": 22,
   "id": "a086e2cd",
   "metadata": {},
   "outputs": [
    {
     "data": {
      "text/plain": [
       "{0: [0.03647, 0.03643, 0.04182],\n",
       " 12: [0.05946, 0.05952, 0.07202],\n",
       " 24: [0.07853, 0.07939, 0.09706],\n",
       " 3: [0.02089, 0.02011, 0.03622],\n",
       " 15: [0.01451, 0.01359, 0.10119],\n",
       " 6: [0.02378, 0.02109, 0.03898],\n",
       " 18: [0.03009, 0.01909, 0.13275],\n",
       " 30: [0.07604, 0.05778, 0.28414],\n",
       " 42: [0.43948, 0.43415, 0.51062],\n",
       " 39: [0.33493, 0.3295, 0.3821],\n",
       " 9: [0.03864, 0.0388, 0.04077],\n",
       " 36: [0.10167, 0.10189, 0.11857],\n",
       " 27: [0.05132, 0.03786, 0.2169],\n",
       " 33: [0.26922, 0.27216, 0.33506],\n",
       " 21: [0.11701, 0.125, 0.17275],\n",
       " 45: [0.0, 0.0, 0.0]}"
      ]
     },
     "execution_count": 22,
     "metadata": {},
     "output_type": "execute_result"
    }
   ],
   "source": [
    "{s:np.round(q, 5).tolist() for s, q in agent.q_values.items()}"
   ]
  },
  {
   "cell_type": "code",
   "execution_count": 23,
   "id": "77e3015b",
   "metadata": {},
   "outputs": [
    {
     "data": {
      "text/html": [
       "<video alt=\"test\" autoplay \n",
       "                loop controls style=\"height: 400px;\">\n",
       "                <source src=\"data:video/mp4;base64,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\" type=\"video/mp4\" />\n",
       "             </video>"
      ],
      "text/plain": [
       "<IPython.core.display.HTML object>"
      ]
     },
     "metadata": {},
     "output_type": "display_data"
    }
   ],
   "source": [
    "show_video()"
   ]
  },
  {
   "cell_type": "code",
   "execution_count": 24,
   "id": "42787cff",
   "metadata": {},
   "outputs": [],
   "source": [
    "os.makedirs('./logs', exist_ok=True)\n",
    "pd.Series(rewards).to_csv('./logs/rewards_qlearning.csv')"
   ]
  },
  {
   "cell_type": "code",
   "execution_count": 25,
   "id": "da141489",
   "metadata": {},
   "outputs": [],
   "source": [
    "sarsa_logs = pd.read_csv('./logs/rewards_sarsa.csv', index_col=False).iloc[:, 1]\n",
    "q_logs = pd.read_csv('./logs/rewards_qlearning.csv', index_col=False).iloc[:, 1]"
   ]
  },
  {
   "cell_type": "code",
   "execution_count": 26,
   "id": "43dc92ab",
   "metadata": {},
   "outputs": [
    {
     "data": {
      "text/plain": [
       "<matplotlib.legend.Legend at 0x27d50bcec10>"
      ]
     },
     "execution_count": 26,
     "metadata": {},
     "output_type": "execute_result"
    },
    {
     "data": {
      "image/png": "[encoded data removed]",
      "text/plain": [
       "<Figure size 1600x800 with 1 Axes>"
      ]
     },
     "metadata": {},
     "output_type": "display_data"
    }
   ],
   "source": [
    "plt.figure(figsize=(16, 8))\n",
    "plt.plot(q_logs.cumsum() / (pd.Series(np.arange(q_logs.shape[0]))+1), label=\"QLearning\")\n",
    "plt.plot(sarsa_logs.cumsum() / (pd.Series(np.arange(sarsa_logs.shape[0]))+1), label=\"SARSA\")\n",
    "plt.legend()"
   ]
  },
  {
   "cell_type": "code",
   "execution_count": null,
   "id": "69d2dad1",
   "metadata": {},
   "outputs": [],
   "source": []
  },
  {
   "cell_type": "code",
   "execution_count": null,
   "id": "a1ab15f2",
   "metadata": {},
   "outputs": [],
   "source": []
  }
 ],
 "metadata": {
  "kernelspec": {
   "display_name": "base",
   "language": "python",
   "name": "python3"
  },
  "language_info": {
   "codemirror_mode": {
    "name": "ipython",
    "version": 3
   },
   "file_extension": ".py",
   "mimetype": "text/x-python",
   "name": "python",
   "nbconvert_exporter": "python",
   "pygments_lexer": "ipython3",
   "version": "3.11.7"
  }
 },
 "nbformat": 4,
 "nbformat_minor": 5
}
