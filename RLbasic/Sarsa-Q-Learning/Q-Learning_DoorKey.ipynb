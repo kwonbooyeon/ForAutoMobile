{
 "cells": [
  {
   "cell_type": "code",
   "execution_count": 41,
   "id": "714211b8",
   "metadata": {},
   "outputs": [
    {
     "name": "stdout",
     "output_type": "stream",
     "text": [
      "Requirement already satisfied: gym-minigrid==1.0.3 in c:\\users\\qndus\\anaconda3\\lib\\site-packages (1.0.3)\n",
      "Requirement already satisfied: gym>=0.9.6 in c:\\users\\qndus\\anaconda3\\lib\\site-packages (from gym-minigrid==1.0.3) (0.22.0)\n",
      "Requirement already satisfied: numpy>=1.15.0 in c:\\users\\qndus\\anaconda3\\lib\\site-packages (from gym-minigrid==1.0.3) (1.26.4)\n",
      "Requirement already satisfied: cloudpickle>=1.2.0 in c:\\users\\qndus\\anaconda3\\lib\\site-packages (from gym>=0.9.6->gym-minigrid==1.0.3) (2.2.1)\n",
      "Requirement already satisfied: gym-notices>=0.0.4 in c:\\users\\qndus\\anaconda3\\lib\\site-packages (from gym>=0.9.6->gym-minigrid==1.0.3) (0.0.8)\n"
     ]
    },
    {
     "name": "stderr",
     "output_type": "stream",
     "text": [
      "\n",
      "[notice] A new release of pip is available: 24.0 -> 24.2\n",
      "[notice] To update, run: python.exe -m pip install --upgrade pip\n"
     ]
    },
    {
     "name": "stdout",
     "output_type": "stream",
     "text": [
      "Requirement already satisfied: gym==0.22 in c:\\users\\qndus\\anaconda3\\lib\\site-packages (0.22.0)\n",
      "Requirement already satisfied: numpy>=1.18.0 in c:\\users\\qndus\\anaconda3\\lib\\site-packages (from gym==0.22) (1.26.4)\n",
      "Requirement already satisfied: cloudpickle>=1.2.0 in c:\\users\\qndus\\anaconda3\\lib\\site-packages (from gym==0.22) (2.2.1)\n",
      "Requirement already satisfied: gym-notices>=0.0.4 in c:\\users\\qndus\\anaconda3\\lib\\site-packages (from gym==0.22) (0.0.8)\n"
     ]
    },
    {
     "name": "stderr",
     "output_type": "stream",
     "text": [
      "\n",
      "[notice] A new release of pip is available: 24.0 -> 24.2\n",
      "[notice] To update, run: python.exe -m pip install --upgrade pip\n"
     ]
    },
    {
     "name": "stdout",
     "output_type": "stream",
     "text": [
      "Requirement already satisfied: imageio-ffmpeg==0.5.1 in c:\\users\\qndus\\anaconda3\\lib\\site-packages (0.5.1)\n",
      "Requirement already satisfied: setuptools in c:\\users\\qndus\\anaconda3\\lib\\site-packages (from imageio-ffmpeg==0.5.1) (69.5.1)\n"
     ]
    },
    {
     "name": "stderr",
     "output_type": "stream",
     "text": [
      "\n",
      "[notice] A new release of pip is available: 24.0 -> 24.2\n",
      "[notice] To update, run: python.exe -m pip install --upgrade pip\n"
     ]
    }
   ],
   "source": [
    "!pip install gym-minigrid==1.0.3\n",
    "!pip install gym==0.22\n",
    "!pip install imageio-ffmpeg==0.5.1"
   ]
  },
  {
   "cell_type": "code",
   "execution_count": 42,
   "id": "150881b2",
   "metadata": {
    "scrolled": true
   },
   "outputs": [],
   "source": [
    "import numpy as np\n",
    "import os\n",
    "import pandas as pd\n",
    "import random\n",
    "from collections import defaultdict\n",
    "import gym\n",
    "import gym_minigrid\n",
    "import matplotlib.pyplot as plt\n",
    "%matplotlib inline"
   ]
  },
  {
   "cell_type": "code",
   "execution_count": 43,
   "id": "bb3475c0",
   "metadata": {
    "scrolled": true
   },
   "outputs": [],
   "source": [
    "class QLearning:\n",
    "    def __init__(self, actions, agent_indicator=10):\n",
    "        self.actions = actions\n",
    "        self.agent_indicator = agent_indicator\n",
    "        self.alpha = 0.1\n",
    "        self.gamma = 0.99\n",
    "        self.epsilon = 0.2\n",
    "        self.q_values = defaultdict(lambda: [0.0] * actions)\n",
    "        \n",
    "    def _convert_state(self, s):\n",
    "        return np.where(s == self.agent_indicator)[0][0]\n",
    "        \n",
    "    def update(self, state, action, reward, next_state, next_action):\n",
    "        state = self._convert_state(state)\n",
    "        next_state = self._convert_state(next_state)\n",
    "        \n",
    "        q_value = self.q_values[state][action]\n",
    "\n",
    "        ################## write code ################################\n",
    "        next_q_value = max(self.q_values[next_state])\n",
    "        \n",
    "        td_error = reward + self.gamma * next_q_value - q_value\n",
    "        self.q_values[state][action] = q_value + self.alpha * td_error\n",
    "        ##############################################################\n",
    "    \n",
    "    def act(self, state):\n",
    "        if np.random.rand() < self.epsilon:\n",
    "            action = np.random.choice(self.actions)\n",
    "        else:\n",
    "            state = self._convert_state(state)\n",
    "            q_values = self.q_values[state]\n",
    "            action = np.argmax(q_values)\n",
    "        if action == 4: action = self.act(state)\n",
    "        return action"
   ]
  },
  {
   "cell_type": "code",
   "execution_count": 44,
   "id": "90706d6e",
   "metadata": {
    "scrolled": true
   },
   "outputs": [],
   "source": [
    "from utils import gen_wrapped_env, show_video"
   ]
  },
  {
   "cell_type": "code",
   "execution_count": 45,
   "id": "d048dbff",
   "metadata": {
    "scrolled": true
   },
   "outputs": [],
   "source": [
    "env = gen_wrapped_env('MiniGrid-DoorKey-8x8-v0')\n",
    "\n",
    "obs = env.reset()\n",
    "\n",
    "agent_position = obs[0]\n",
    "\n",
    "agent = QLearning(6, agent_position)"
   ]
  },
  {
   "cell_type": "markdown",
   "id": "e79aa8d2-fca8-4b2e-8127-d4c0469c52d1",
   "metadata": {},
   "source": [
    "## For Q-Learning\n",
    "+ Q-learning update"
   ]
  },
  {
   "cell_type": "code",
   "execution_count": 46,
   "id": "54160a86",
   "metadata": {},
   "outputs": [
    {
     "name": "stdout",
     "output_type": "stream",
     "text": [
      "0.9090909090909091\n"
     ]
    }
   ],
   "source": [
    "a = 10\n",
    "a/=11\n",
    "print(a)"
   ]
  },
  {
   "cell_type": "code",
   "execution_count": null,
   "id": "f7e8c55c",
   "metadata": {
    "scrolled": true
   },
   "outputs": [
    {
     "name": "stdout",
     "output_type": "stream",
     "text": [
      "episode: 20, rewards: 0, learning rate: 0.1\n",
      "episode: 40, rewards: 0, learning rate: 0.0995\n",
      "episode: 60, rewards: 0, learning rate: 0.09900250000000001\n",
      "episode: 80, rewards: 0, learning rate: 0.0985074875\n",
      "episode: 100, rewards: 0, learning rate: 0.09801495006250001\n",
      "episode: 120, rewards: 0, learning rate: 0.09752487531218751\n",
      "episode: 140, rewards: 0, learning rate: 0.09703725093562657\n",
      "episode: 160, rewards: 0, learning rate: 0.09655206468094843\n",
      "episode: 180, rewards: 0, learning rate: 0.09606930435754368\n",
      "episode: 200, rewards: 0, learning rate: 0.09558895783575597\n",
      "episode: 220, rewards: 0, learning rate: 0.09511101304657718\n",
      "episode: 240, rewards: 0, learning rate: 0.09463545798134429\n",
      "episode: 260, rewards: 0, learning rate: 0.09416228069143756\n",
      "episode: 280, rewards: 0, learning rate: 0.09369146928798038\n",
      "episode: 300, rewards: 0, learning rate: 0.09322301194154048\n",
      "episode: 320, rewards: 0, learning rate: 0.09275689688183278\n",
      "episode: 340, rewards: 0, learning rate: 0.09229311239742362\n",
      "episode: 360, rewards: 0, learning rate: 0.0918316468354365\n",
      "episode: 380, rewards: 0, learning rate: 0.09137248860125932\n",
      "episode: 400, rewards: 0, learning rate: 0.09091562615825302\n",
      "episode: 420, rewards: 0, learning rate: 0.09046104802746176\n",
      "episode: 440, rewards: 0, learning rate: 0.09000874278732444\n",
      "episode: 460, rewards: 0, learning rate: 0.08955869907338782\n",
      "episode: 480, rewards: 0, learning rate: 0.08911090557802087\n",
      "episode: 500, rewards: 0, learning rate: 0.08866535105013076\n",
      "episode: 520, rewards: 0, learning rate: 0.08822202429488012\n",
      "episode: 540, rewards: 0, learning rate: 0.08778091417340572\n",
      "episode: 560, rewards: 0, learning rate: 0.0873420096025387\n",
      "episode: 580, rewards: 0, learning rate: 0.086905299554526\n",
      "episode: 600, rewards: 0, learning rate: 0.08647077305675337\n",
      "episode: 620, rewards: 0, learning rate: 0.0860384191914696\n",
      "episode: 640, rewards: 0, learning rate: 0.08560822709551225\n",
      "episode: 660, rewards: 0, learning rate: 0.08518018596003468\n",
      "episode: 680, rewards: 0, learning rate: 0.08475428503023451\n",
      "episode: 700, rewards: 0, learning rate: 0.08433051360508334\n",
      "episode: 720, rewards: 0, learning rate: 0.08390886103705793\n",
      "episode: 740, rewards: 0, learning rate: 0.08348931673187264\n",
      "episode: 760, rewards: 0, learning rate: 0.08307187014821328\n",
      "episode: 780, rewards: 0, learning rate: 0.08265651079747222\n",
      "episode: 800, rewards: 0, learning rate: 0.08224322824348486\n",
      "episode: 820, rewards: 0, learning rate: 0.08183201210226744\n",
      "episode: 840, rewards: 0, learning rate: 0.0814228520417561\n",
      "episode: 860, rewards: 0, learning rate: 0.08101573778154732\n",
      "episode: 880, rewards: 0, learning rate: 0.08061065909263958\n",
      "episode: 900, rewards: 0, learning rate: 0.08020760579717638\n",
      "episode: 920, rewards: 0, learning rate: 0.0798065677681905\n",
      "episode: 940, rewards: 0, learning rate: 0.07940753492934956\n",
      "episode: 960, rewards: 0, learning rate: 0.07901049725470281\n",
      "episode: 980, rewards: 0, learning rate: 0.0786154447684293\n",
      "episode: 1000, rewards: 0, learning rate: 0.07822236754458715\n",
      "episode: 1020, rewards: 0, learning rate: 0.07783125570686422\n",
      "episode: 1040, rewards: 0, learning rate: 0.0774420994283299\n",
      "episode: 1060, rewards: 0, learning rate: 0.07705488893118825\n",
      "episode: 1080, rewards: 0, learning rate: 0.07666961448653231\n",
      "episode: 1100, rewards: 0, learning rate: 0.07628626641409965\n",
      "episode: 1120, rewards: 0, learning rate: 0.07590483508202915\n",
      "episode: 1140, rewards: 0, learning rate: 0.075525310906619\n",
      "episode: 1160, rewards: 0, learning rate: 0.07514768435208591\n",
      "episode: 1180, rewards: 0, learning rate: 0.07477194593032548\n",
      "episode: 1200, rewards: 0, learning rate: 0.07439808620067385\n",
      "episode: 1220, rewards: 0, learning rate: 0.07402609576967048\n",
      "episode: 1240, rewards: 0, learning rate: 0.07365596529082213\n",
      "episode: 1260, rewards: 0, learning rate: 0.07328768546436802\n",
      "episode: 1280, rewards: 0, learning rate: 0.07292124703704618\n",
      "episode: 1300, rewards: 0, learning rate: 0.07255664080186094\n",
      "episode: 1320, rewards: 0, learning rate: 0.07219385759785164\n",
      "episode: 1340, rewards: 0, learning rate: 0.07183288830986238\n",
      "episode: 1360, rewards: 0, learning rate: 0.07147372386831308\n",
      "episode: 1380, rewards: 0, learning rate: 0.07111635524897152\n",
      "episode: 1400, rewards: 0, learning rate: 0.07076077347272666\n",
      "episode: 1420, rewards: 0, learning rate: 0.07040696960536302\n",
      "episode: 1440, rewards: 0, learning rate: 0.0700549347573362\n",
      "episode: 1460, rewards: 0, learning rate: 0.06970466008354953\n",
      "episode: 1480, rewards: 0, learning rate: 0.06935613678313178\n",
      "episode: 1500, rewards: 0, learning rate: 0.06900935609921612\n",
      "episode: 1520, rewards: 0, learning rate: 0.06866430931872003\n",
      "episode: 1540, rewards: 0, learning rate: 0.06832098777212643\n",
      "episode: 1560, rewards: 0, learning rate: 0.0679793828332658\n",
      "episode: 1580, rewards: 0, learning rate: 0.06763948591909946\n",
      "episode: 1600, rewards: 0, learning rate: 0.06730128848950397\n",
      "episode: 1620, rewards: 0, learning rate: 0.06696478204705644\n",
      "episode: 1640, rewards: 0, learning rate: 0.06662995813682115\n",
      "episode: 1660, rewards: 0, learning rate: 0.06629680834613705\n",
      "episode: 1680, rewards: 0, learning rate: 0.06596532430440637\n",
      "episode: 1700, rewards: 0, learning rate: 0.06563549768288433\n",
      "episode: 1720, rewards: 0, learning rate: 0.06530732019446991\n",
      "episode: 1740, rewards: 0, learning rate: 0.06498078359349757\n",
      "episode: 1760, rewards: 0, learning rate: 0.06465587967553008\n",
      "episode: 1780, rewards: 0, learning rate: 0.06433260027715243\n",
      "episode: 1800, rewards: 0, learning rate: 0.06401093727576666\n",
      "episode: 1820, rewards: 0, learning rate: 0.06369088258938783\n",
      "episode: 1840, rewards: 0, learning rate: 0.0633724281764409\n",
      "episode: 1860, rewards: 0, learning rate: 0.06305556603555869\n",
      "episode: 1880, rewards: 0, learning rate: 0.0627402882053809\n",
      "episode: 1900, rewards: 0, learning rate: 0.062426586764353996\n",
      "episode: 1920, rewards: 0, learning rate: 0.062114453830532226\n",
      "episode: 1940, rewards: 0, learning rate: 0.061803881561379566\n",
      "episode: 1960, rewards: 0, learning rate: 0.061494862153572666\n",
      "episode: 1980, rewards: 0, learning rate: 0.0611873878428048\n",
      "episode: 2000, rewards: 0, learning rate: 0.060881450903590775\n",
      "episode: 2020, rewards: 0, learning rate: 0.06057704364907282\n",
      "episode: 2040, rewards: 0, learning rate: 0.06027415843082746\n",
      "episode: 2060, rewards: 0, learning rate: 0.05997278763867332\n",
      "episode: 2080, rewards: 0, learning rate: 0.059672923700479955\n",
      "episode: 2100, rewards: 0, learning rate: 0.05937455908197756\n",
      "episode: 2120, rewards: 0, learning rate: 0.05907768628656767\n",
      "episode: 2140, rewards: 0, learning rate: 0.05878229785513483\n",
      "episode: 2160, rewards: 0, learning rate: 0.05848838636585915\n",
      "episode: 2180, rewards: 0, learning rate: 0.05819594443402985\n",
      "episode: 2200, rewards: 0, learning rate: 0.057904964711859706\n",
      "episode: 2220, rewards: 0, learning rate: 0.05761543988830041\n",
      "episode: 2240, rewards: 0, learning rate: 0.05732736268885891\n",
      "episode: 2260, rewards: 0, learning rate: 0.05704072587541461\n",
      "episode: 2280, rewards: 0, learning rate: 0.05675552224603753\n",
      "episode: 2300, rewards: 0, learning rate: 0.05647174463480734\n",
      "episode: 2320, rewards: 0, learning rate: 0.056189385911633305\n",
      "episode: 2340, rewards: 0, learning rate: 0.05590843898207514\n",
      "episode: 2360, rewards: 0, learning rate: 0.05562889678716477\n",
      "episode: 2380, rewards: 0, learning rate: 0.055350752303228945\n",
      "episode: 2400, rewards: 0, learning rate: 0.0550739985417128\n",
      "episode: 2420, rewards: 0, learning rate: 0.05479862854900423\n",
      "episode: 2440, rewards: 0, learning rate: 0.05452463540625921\n",
      "episode: 2460, rewards: 0, learning rate: 0.05425201222922791\n",
      "episode: 2480, rewards: 0, learning rate: 0.05398075216808177\n",
      "episode: 2500, rewards: 0, learning rate: 0.053710848407241364\n",
      "episode: 2520, rewards: 0, learning rate: 0.053442294165205156\n",
      "episode: 2540, rewards: 0, learning rate: 0.05317508269437913\n",
      "episode: 2560, rewards: 0, learning rate: 0.052909207280907235\n",
      "episode: 2580, rewards: 0, learning rate: 0.0526446612445027\n",
      "episode: 2600, rewards: 0, learning rate: 0.052381437938280186\n",
      "episode: 2620, rewards: 0, learning rate: 0.052119530748588785\n",
      "episode: 2640, rewards: 0, learning rate: 0.05185893309484584\n",
      "episode: 2660, rewards: 0, learning rate: 0.05159963842937161\n",
      "episode: 2680, rewards: 0, learning rate: 0.051341640237224755\n",
      "episode: 2700, rewards: 0, learning rate: 0.05108493203603863\n",
      "episode: 2720, rewards: 0, learning rate: 0.05082950737585844\n",
      "episode: 2740, rewards: 0, learning rate: 0.05057535983897914\n",
      "episode: 2760, rewards: 0, learning rate: 0.050322483039784247\n",
      "episode: 2780, rewards: 0, learning rate: 0.050070870624585324\n",
      "episode: 2800, rewards: 0, learning rate: 0.049820516271462396\n",
      "episode: 2820, rewards: 0, learning rate: 0.049571413690105086\n",
      "episode: 2840, rewards: 0, learning rate: 0.04932355662165456\n",
      "episode: 2860, rewards: 0, learning rate: 0.04907693883854629\n",
      "episode: 2880, rewards: 0, learning rate: 0.048831554144353556\n",
      "episode: 2900, rewards: 0, learning rate: 0.04858739637363179\n",
      "episode: 2920, rewards: 0, learning rate: 0.04834445939176363\n",
      "episode: 2940, rewards: 0, learning rate: 0.04810273709480481\n",
      "episode: 2960, rewards: 0, learning rate: 0.04786222340933079\n",
      "episode: 2980, rewards: 0, learning rate: 0.04762291229228413\n",
      "episode: 3000, rewards: 0, learning rate: 0.04738479773082271\n",
      "episode: 3020, rewards: 0, learning rate: 0.04714787374216859\n",
      "episode: 3040, rewards: 0, learning rate: 0.046912134373457745\n",
      "episode: 3060, rewards: 0, learning rate: 0.04667757370159046\n",
      "episode: 3080, rewards: 0, learning rate: 0.046444185833082505\n",
      "episode: 3100, rewards: 0, learning rate: 0.046211964903917095\n",
      "episode: 3120, rewards: 0, learning rate: 0.04598090507939751\n",
      "episode: 3140, rewards: 0, learning rate: 0.045751000554000526\n",
      "episode: 3160, rewards: 0, learning rate: 0.04552224555123052\n",
      "episode: 3180, rewards: 0, learning rate: 0.04529463432347437\n",
      "episode: 3200, rewards: 0, learning rate: 0.045068161151857\n",
      "episode: 3220, rewards: 0, learning rate: 0.04484282034609772\n",
      "episode: 3240, rewards: 0, learning rate: 0.04461860624436723\n",
      "episode: 3260, rewards: 0, learning rate: 0.044395513213145395\n",
      "episode: 3280, rewards: 0, learning rate: 0.04417353564707967\n",
      "episode: 3300, rewards: 0, learning rate: 0.04395266796884427\n",
      "episode: 3320, rewards: 0, learning rate: 0.04373290462900005\n",
      "episode: 3340, rewards: 0, learning rate: 0.04351424010585505\n",
      "episode: 3360, rewards: 0, learning rate: 0.043296668905325776\n",
      "episode: 3380, rewards: 0, learning rate: 0.04308018556079915\n",
      "episode: 3400, rewards: 0, learning rate: 0.04286478463299515\n",
      "episode: 3420, rewards: 0, learning rate: 0.042650460709830175\n",
      "episode: 3440, rewards: 0, learning rate: 0.04243720840628103\n",
      "episode: 3460, rewards: 0, learning rate: 0.042225022364249624\n",
      "episode: 3480, rewards: 0, learning rate: 0.04201389725242838\n",
      "episode: 3500, rewards: 0, learning rate: 0.041803827766166236\n",
      "episode: 3520, rewards: 0, learning rate: 0.0415948086273354\n",
      "episode: 3540, rewards: 0, learning rate: 0.04138683458419873\n",
      "episode: 3560, rewards: 0, learning rate: 0.04117990041127773\n",
      "episode: 3580, rewards: 0, learning rate: 0.04097400090922134\n",
      "episode: 3600, rewards: 0, learning rate: 0.04076913090467523\n",
      "episode: 3620, rewards: 0, learning rate: 0.04056528525015186\n",
      "episode: 3640, rewards: 0, learning rate: 0.0403624588239011\n",
      "episode: 3660, rewards: 0, learning rate: 0.04016064652978159\n",
      "episode: 3680, rewards: 0, learning rate: 0.03995984329713268\n",
      "episode: 3700, rewards: 0, learning rate: 0.03976004408064702\n",
      "episode: 3720, rewards: 0, learning rate: 0.03956124386024378\n",
      "episode: 3740, rewards: 0, learning rate: 0.039363437640942564\n",
      "episode: 3760, rewards: 0, learning rate: 0.03916662045273785\n",
      "episode: 3780, rewards: 0, learning rate: 0.03897078735047416\n",
      "episode: 3800, rewards: 0, learning rate: 0.03877593341372179\n",
      "episode: 3820, rewards: 0, learning rate: 0.03858205374665318\n",
      "episode: 3840, rewards: 0, learning rate: 0.03838914347791991\n",
      "episode: 3860, rewards: 0, learning rate: 0.038197197760530315\n",
      "episode: 3880, rewards: 0, learning rate: 0.038006211771727666\n",
      "episode: 3900, rewards: 0, learning rate: 0.037816180712869026\n",
      "episode: 3920, rewards: 0, learning rate: 0.03762709980930468\n",
      "episode: 3940, rewards: 0, learning rate: 0.03743896431025816\n",
      "episode: 3960, rewards: 0, learning rate: 0.037251769488706864\n",
      "episode: 3980, rewards: 0, learning rate: 0.03706551064126333\n",
      "episode: 4000, rewards: 0, learning rate: 0.03688018308805701\n",
      "episode: 4020, rewards: 0, learning rate: 0.03669578217261672\n",
      "episode: 4040, rewards: 0, learning rate: 0.036512303261753636\n",
      "episode: 4060, rewards: 0, learning rate: 0.036329741745444864\n",
      "episode: 4080, rewards: 0, learning rate: 0.03614809303671764\n",
      "episode: 4100, rewards: 0, learning rate: 0.03596735257153405\n",
      "episode: 4120, rewards: 0, learning rate: 0.03578751580867638\n",
      "episode: 4140, rewards: 0, learning rate: 0.035608578229633\n",
      "episode: 4160, rewards: 0, learning rate: 0.035430535338484836\n",
      "episode: 4180, rewards: 0, learning rate: 0.03525338266179241\n",
      "episode: 4200, rewards: 0, learning rate: 0.03507711574848345\n",
      "episode: 4220, rewards: 0, learning rate: 0.03490173016974103\n",
      "episode: 4240, rewards: 0, learning rate: 0.03472722151889233\n",
      "episode: 4260, rewards: 0, learning rate: 0.03455358541129787\n",
      "episode: 4280, rewards: 0, learning rate: 0.03438081748424138\n",
      "episode: 4300, rewards: 0, learning rate: 0.03420891339682017\n",
      "episode: 4320, rewards: 0, learning rate: 0.03403786882983607\n",
      "episode: 4340, rewards: 0, learning rate: 0.033867679485686884\n",
      "episode: 4360, rewards: 0, learning rate: 0.03369834108825845\n",
      "episode: 4380, rewards: 0, learning rate: 0.03352984938281715\n",
      "episode: 4400, rewards: 0, learning rate: 0.03336220013590307\n",
      "episode: 4420, rewards: 0, learning rate: 0.03319538913522355\n",
      "episode: 4440, rewards: 0, learning rate: 0.033029412189547434\n",
      "episode: 4460, rewards: 0, learning rate: 0.0328642651285997\n",
      "episode: 4480, rewards: 0, learning rate: 0.032699943802956696\n",
      "episode: 4500, rewards: 0, learning rate: 0.032536444083941914\n",
      "episode: 4520, rewards: 0, learning rate: 0.032373761863522206\n",
      "episode: 4540, rewards: 0, learning rate: 0.0322118930542046\n",
      "episode: 4560, rewards: 0, learning rate: 0.032050833588933576\n",
      "episode: 4580, rewards: 0, learning rate: 0.031890579420988906\n",
      "episode: 4600, rewards: 0, learning rate: 0.03173112652388396\n",
      "episode: 4620, rewards: 0, learning rate: 0.03157247089126454\n",
      "episode: 4640, rewards: 0, learning rate: 0.03141460853680822\n",
      "episode: 4660, rewards: 0, learning rate: 0.031257535494124175\n",
      "episode: 4680, rewards: 0, learning rate: 0.031101247816653552\n",
      "episode: 4700, rewards: 0, learning rate: 0.030945741577570286\n",
      "episode: 4720, rewards: 0, learning rate: 0.030791012869682433\n",
      "episode: 4740, rewards: 0, learning rate: 0.03063705780533402\n",
      "episode: 4760, rewards: 0, learning rate: 0.03048387251630735\n",
      "episode: 4780, rewards: 0, learning rate: 0.03033145315372581\n",
      "episode: 4800, rewards: 0, learning rate: 0.030179795887957182\n",
      "episode: 4820, rewards: 0, learning rate: 0.030028896908517396\n",
      "episode: 4840, rewards: 0, learning rate: 0.029878752423974808\n",
      "episode: 4860, rewards: 0, learning rate: 0.029729358661854933\n",
      "episode: 4880, rewards: 0, learning rate: 0.029580711868545658\n",
      "episode: 4900, rewards: 0, learning rate: 0.02943280830920293\n",
      "episode: 4920, rewards: 0, learning rate: 0.029285644267656914\n",
      "episode: 4940, rewards: 0, learning rate: 0.02913921604631863\n",
      "episode: 4960, rewards: 0, learning rate: 0.028993519966087036\n",
      "episode: 4980, rewards: 0, learning rate: 0.0288485523662566\n",
      "episode: 5000, rewards: 0, learning rate: 0.028704309604425316\n",
      "episode: 5020, rewards: 0, learning rate: 0.028560788056403188\n",
      "episode: 5040, rewards: 0, learning rate: 0.028417984116121172\n",
      "episode: 5060, rewards: 0, learning rate: 0.028275894195540566\n",
      "episode: 5080, rewards: 0, learning rate: 0.028134514724562864\n",
      "episode: 5100, rewards: 0, learning rate: 0.02799384215094005\n",
      "episode: 5120, rewards: 0, learning rate: 0.027853872940185348\n",
      "episode: 5140, rewards: 0, learning rate: 0.02771460357548442\n",
      "episode: 5160, rewards: 0, learning rate: 0.027576030557607\n",
      "episode: 5180, rewards: 0, learning rate: 0.027438150404818965\n",
      "episode: 5200, rewards: 0, learning rate: 0.02730095965279487\n",
      "episode: 5220, rewards: 0, learning rate: 0.027164454854530895\n",
      "episode: 5240, rewards: 0, learning rate: 0.02702863258025824\n",
      "episode: 5260, rewards: 0, learning rate: 0.02689348941735695\n",
      "episode: 5280, rewards: 0, learning rate: 0.026759021970270167\n",
      "episode: 5300, rewards: 0, learning rate: 0.026625226860418818\n",
      "episode: 5320, rewards: 0, learning rate: 0.026492100726116723\n",
      "episode: 5340, rewards: 0, learning rate: 0.02635964022248614\n",
      "episode: 5360, rewards: 0, learning rate: 0.02622784202137371\n",
      "episode: 5380, rewards: 0, learning rate: 0.02609670281126684\n",
      "episode: 5400, rewards: 0, learning rate: 0.02596621929721051\n",
      "episode: 5420, rewards: 0, learning rate: 0.025836388200724456\n",
      "episode: 5440, rewards: 0, learning rate: 0.025707206259720835\n",
      "episode: 5460, rewards: 0, learning rate: 0.02557867022842223\n",
      "episode: 5480, rewards: 0, learning rate: 0.025450776877280118\n",
      "episode: 5500, rewards: 0, learning rate: 0.025323522992893716\n",
      "episode: 5520, rewards: 0, learning rate: 0.02519690537792925\n",
      "episode: 5540, rewards: 0, learning rate: 0.025070920851039603\n",
      "episode: 5560, rewards: 0, learning rate: 0.024945566246784404\n",
      "episode: 5580, rewards: 0, learning rate: 0.02482083841555048\n",
      "episode: 5600, rewards: 0, learning rate: 0.024696734223472728\n",
      "episode: 5620, rewards: 0, learning rate: 0.024573250552355364\n",
      "episode: 5640, rewards: 0, learning rate: 0.024450384299593588\n",
      "episode: 5660, rewards: 0, learning rate: 0.02432813237809562\n",
      "episode: 5680, rewards: 0, learning rate: 0.02420649171620514\n",
      "episode: 5700, rewards: 0, learning rate: 0.024085459257624113\n",
      "episode: 5720, rewards: 0, learning rate: 0.02396503196133599\n",
      "episode: 5740, rewards: 0, learning rate: 0.023845206801529312\n",
      "episode: 5760, rewards: 0, learning rate: 0.023725980767521665\n",
      "episode: 5780, rewards: 0, learning rate: 0.023607350863684057\n",
      "episode: 5800, rewards: 0, learning rate: 0.02348931410936564\n",
      "episode: 5820, rewards: 0, learning rate: 0.02337186753881881\n",
      "episode: 5840, rewards: 0, learning rate: 0.023255008201124715\n"
     ]
    }
   ],
   "source": [
    "rewards = []\n",
    "for ep in range(10000):\n",
    "    done = False\n",
    "    obs = env.reset()\n",
    "    action = agent.act(obs)\n",
    "    \n",
    "    ep_rewards = 0\n",
    "    while not done:\n",
    "        next_obs, reward, done, info = env.step(action)\n",
    "\n",
    "        next_action = agent.act(next_obs)\n",
    "\n",
    "        agent.update(obs, action, reward, next_obs, next_action)\n",
    "        \n",
    "        ep_rewards += reward\n",
    "        obs = next_obs\n",
    "        action = next_action\n",
    "    rewards.append(ep_rewards)\n",
    "    if (ep+1) % 20 == 0:\n",
    "        print(\"episode: {}, rewards: {}, learning rate: {}\".format(ep+1, ep_rewards, agent.alpha))\n",
    "        agent.alpha *= 0.995\n",
    "env.close()"
   ]
  },
  {
   "cell_type": "code",
   "execution_count": 36,
   "id": "a086e2cd",
   "metadata": {},
   "outputs": [
    {
     "data": {
      "text/plain": [
       "{0: [0.0, 0.0, 0.0, 0.0, 0.0, 0.0],\n",
       " 3: [0.0, 0.0, 0.0, 0.0, 0.0, 0.0],\n",
       " 2: [0.0, 0.0, 0.0, 0.0, 0.0, 0.0],\n",
       " 6: [0.0, 0.0, 0.0, 0.0, 0.0, 0.0],\n",
       " 5: [0.0, 0.0, 0.0, 0.0, 0.0, 0.0]}"
      ]
     },
     "execution_count": 36,
     "metadata": {},
     "output_type": "execute_result"
    }
   ],
   "source": [
    "{s:np.round(q, 5).tolist() for s, q in agent.q_values.items()}"
   ]
  },
  {
   "cell_type": "code",
   "execution_count": 37,
   "id": "77e3015b",
   "metadata": {},
   "outputs": [
    {
     "data": {
      "text/html": [
       "<video alt=\"test\" autoplay \n",
       "                loop controls style=\"height: 400px;\">\n",
       "                <source src=\"data:video/mp4;base64,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\" type=\"video/mp4\" />\n",
       "             </video>"
      ],
      "text/plain": [
       "<IPython.core.display.HTML object>"
      ]
     },
     "metadata": {},
     "output_type": "display_data"
    }
   ],
   "source": [
    "show_video()"
   ]
  },
  {
   "cell_type": "code",
   "execution_count": 38,
   "id": "42787cff",
   "metadata": {},
   "outputs": [],
   "source": [
    "os.makedirs('./logs', exist_ok=True)\n",
    "pd.Series(rewards).to_csv('./logs/rewards_qlearning_doorkey.csv')"
   ]
  },
  {
   "cell_type": "code",
   "execution_count": 39,
   "id": "da141489",
   "metadata": {},
   "outputs": [],
   "source": [
    "sarsa_logs = pd.read_csv('./logs/rewards_sarsa_doorkey.csv', index_col=False).iloc[:, 1]\n",
    "q_logs = pd.read_csv('./logs/rewards_qlearning_doorkey.csv', index_col=False).iloc[:, 1]"
   ]
  },
  {
   "cell_type": "code",
   "execution_count": 40,
   "id": "43dc92ab",
   "metadata": {},
   "outputs": [
    {
     "data": {
      "text/plain": [
       "<matplotlib.legend.Legend at 0x17f90ebd3d0>"
      ]
     },
     "execution_count": 40,
     "metadata": {},
     "output_type": "execute_result"
    },
    {
     "data": {
      "image/png": "[encoded data removed]",
      "text/plain": [
       "<Figure size 1600x800 with 1 Axes>"
      ]
     },
     "metadata": {},
     "output_type": "display_data"
    }
   ],
   "source": [
    "plt.figure(figsize=(16, 8))\n",
    "plt.plot(q_logs.cumsum() / (pd.Series(np.arange(q_logs.shape[0]))+1), label=\"QLearning\")\n",
    "plt.plot(sarsa_logs.cumsum() / (pd.Series(np.arange(sarsa_logs.shape[0]))+1), label=\"SARSA\")\n",
    "plt.legend()"
   ]
  },
  {
   "cell_type": "code",
   "execution_count": null,
   "id": "69d2dad1",
   "metadata": {},
   "outputs": [],
   "source": []
  },
  {
   "cell_type": "code",
   "execution_count": null,
   "id": "a1ab15f2",
   "metadata": {},
   "outputs": [],
   "source": []
  }
 ],
 "metadata": {
  "kernelspec": {
   "display_name": "base",
   "language": "python",
   "name": "python3"
  },
  "language_info": {
   "codemirror_mode": {
    "name": "ipython",
    "version": 3
   },
   "file_extension": ".py",
   "mimetype": "text/x-python",
   "name": "python",
   "nbconvert_exporter": "python",
   "pygments_lexer": "ipython3",
   "version": "3.11.7"
  }
 },
 "nbformat": 4,
 "nbformat_minor": 5
}
